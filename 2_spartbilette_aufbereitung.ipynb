{
 "cells": [
  {
   "cell_type": "markdown",
   "metadata": {},
   "source": [
    "## Der Kluge reist auf der Sparschiene \n",
    "Die SBB bieten mehr Sparbilette denn je an. In den letzten Monaten wurden die Ticketpreise, wie sie via den Fahrplan ersichtlich sind, von einem Computerskript automatisch ausgelesen. Nachfolgend werden die dabei entstandenen Daten eingelesen und aufbereitet.  "
   ]
  },
  {
   "cell_type": "code",
   "execution_count": 11,
   "metadata": {},
   "outputs": [],
   "source": [
    "# Importieren der nötigen Bibliotheken. \n",
    "import pandas as pd\n",
    "from progressbar import progressbar\n",
    "import matplotlib.pyplot as plt\n",
    "%matplotlib inline\n",
    "plt.style.use('fivethirtyeight')"
   ]
  },
  {
   "cell_type": "code",
   "execution_count": 12,
   "metadata": {},
   "outputs": [],
   "source": [
    "# Die Daten werden eingelesen. \n",
    "df = pd.read_csv('daten/sparbillette_3.csv', index_col='Unnamed: 0')"
   ]
  },
  {
   "cell_type": "code",
   "execution_count": 13,
   "metadata": {},
   "outputs": [],
   "source": [
    "df.columns = ['datetime', 'datum', 'start', 'ziel', 'zeit', 'abfahrt',\n",
    "       'ankunft', 'dauer', 'umsteigen', 'belegung_1', 'belegung_2', 'zug',\n",
    "       'minimalpreis', 'login', 'file']"
   ]
  },
  {
   "cell_type": "code",
   "execution_count": 14,
   "metadata": {},
   "outputs": [],
   "source": [
    "# Eine Korrektur. Einige Ortsbezeichnungen enthalten einen Leerschlag am Ende. Dieser wird entfernt. \n",
    "df['start'] = df['start'].str.strip()\n",
    "df['ziel'] = df['ziel'].str.strip()\n",
    "\n",
    "# Einige Seiten wurden in französischer, englischer oder italiensischer Sprache geliefert. \n",
    "#Die Ortsbezeichnungen werden korrigiert.\n",
    "df['start'] = df['start'].str.replace('de ', '')\n",
    "df['start'] = df['start'].str.replace('from ', '')\n",
    "df['start'] = df['start'].str.replace('da ', '')\n",
    "\n",
    "df['ziel'] = df['ziel'].str.replace('à ', '')\n",
    "df['ziel'] = df['ziel'].str.replace('a ', '')\n",
    "df['ziel'] = df['ziel'].str.replace('to ', '')\n",
    "\n",
    "# Allfällige Duplikate werden entfernt.  \n",
    "df = df.drop_duplicates()\n",
    "\n",
    "# Das Datum wird in besser verarbeitbare Form gebracht. \n",
    "df['datum'] = pd.to_datetime(df['datum'], dayfirst=True)"
   ]
  },
  {
   "cell_type": "code",
   "execution_count": 15,
   "metadata": {},
   "outputs": [],
   "source": [
    "# Weitere Korrekturen, da beim Scraper die Schreibweise geändert werden musste. \n",
    "df['start'] = df['start'].replace('Bern, Hauptbahnhof', 'Bern')\n",
    "df['ziel'] = df['ziel'].replace('Bern, Hauptbahnhof', 'Bern')"
   ]
  },
  {
   "cell_type": "code",
   "execution_count": 16,
   "metadata": {},
   "outputs": [],
   "source": [
    "# In etlichen Einträgen ist kein Preis verzeichnet. Diese ignorieren wir.  \n",
    "df = df[df['minimalpreis'].notnull()]"
   ]
  },
  {
   "cell_type": "code",
   "execution_count": 17,
   "metadata": {},
   "outputs": [],
   "source": [
    "# Um sicherzustellen, dass wir nur Preise mit Halbtax haben, beschränken wir uns auf die eingloggt erfassten Daten. \n",
    "df = df[df['login'] == True]"
   ]
  },
  {
   "cell_type": "code",
   "execution_count": 18,
   "metadata": {},
   "outputs": [
    {
     "name": "stderr",
     "output_type": "stream",
     "text": [
      "100%|██████████| 193658/193658 [00:03<00:00, 51319.24it/s]\n"
     ]
    }
   ],
   "source": [
    "# Fälschlicherweise wurden einige Fahrten innerhalb eines Ortes erfasst. Diese werden herausgefiltert. Multiprozess-Version. \n",
    "import tqdm\n",
    "import concurrent.futures\n",
    "import numpy as np\n",
    "import multiprocessing\n",
    "\n",
    "num_processes = multiprocessing.cpu_count() - 1\n",
    "\n",
    "def worker(s, z):\n",
    "    if s in z:\n",
    "        return 'löschen'\n",
    "    else:\n",
    "        return 'ok'\n",
    "\n",
    "# Process the rows in chunks in parallel\n",
    "with concurrent.futures.ProcessPoolExecutor(num_processes) as pool:\n",
    "    df['löschen'] = list(tqdm.tqdm(pool.map(worker, df['start'], df['ziel'], chunksize=10), total=df.shape[0])) # With a progressbar\n",
    "df = df[df['löschen'] != 'löschen']\n",
    "del df['löschen']"
   ]
  },
  {
   "cell_type": "code",
   "execution_count": 19,
   "metadata": {},
   "outputs": [],
   "source": [
    "# Die Differenz in Tagen zwischen dem Scraping-Zeitpunkt und dem gewünschten Fahrzeitpunkt wird errechnet. \n",
    "df['datum'] = pd.to_datetime(df['datum'])\n",
    "df['datetime'] = pd.to_datetime(df['datetime'])\n",
    "df['im_voraus'] = (df['datetime'] - df['datum']).apply(lambda x: x.days)"
   ]
  },
  {
   "cell_type": "code",
   "execution_count": 20,
   "metadata": {},
   "outputs": [],
   "source": [
    "# Die errechnete Zahl kann um rund zwei Tage varieren. Deshalb runden wir auf die halbe Woche. \n",
    "def insrichigetöpfli(v):\n",
    "    for i in [0, 3, 7, 14, 30, 58]:\n",
    "        if abs(abs(v) - abs(i)) <= 1:\n",
    "            return -i\n",
    "        \n",
    "df['im_voraus_kat'] = df['im_voraus'].apply(insrichigetöpfli)\n",
    "df['im_voraus_kat'] = df['im_voraus_kat'].replace(0, -1)"
   ]
  },
  {
   "cell_type": "code",
   "execution_count": 21,
   "metadata": {},
   "outputs": [],
   "source": [
    "# Der Abfahrtszeitpunkt wird als Datetime abgelegt.\n",
    "df['abfahrt_datetime'] = pd.to_datetime(df['datum'].astype('str') + ' ' + df['abfahrt'])"
   ]
  },
  {
   "cell_type": "code",
   "execution_count": 22,
   "metadata": {},
   "outputs": [],
   "source": [
    "# Einfügen der Streckenbezeichnung, damit später einfacher sortiert werden kann.  \n",
    "df['strecke'] = df['start'] + ' -- ' + df['ziel']"
   ]
  },
  {
   "cell_type": "code",
   "execution_count": 23,
   "metadata": {},
   "outputs": [
    {
     "name": "stderr",
     "output_type": "stream",
     "text": [
      "/home/this/.local/lib/python3.7/site-packages/ipykernel_launcher.py:9: SettingWithCopyWarning: \n",
      "A value is trying to be set on a copy of a slice from a DataFrame.\n",
      "Try using .loc[row_indexer,col_indexer] = value instead\n",
      "\n",
      "See the caveats in the documentation: http://pandas.pydata.org/pandas-docs/stable/user_guide/indexing.html#returning-a-view-versus-a-copy\n",
      "  if __name__ == '__main__':\n",
      "/home/this/.local/lib/python3.7/site-packages/ipykernel_launcher.py:10: SettingWithCopyWarning: \n",
      "A value is trying to be set on a copy of a slice from a DataFrame.\n",
      "Try using .loc[row_indexer,col_indexer] = value instead\n",
      "\n",
      "See the caveats in the documentation: http://pandas.pydata.org/pandas-docs/stable/user_guide/indexing.html#returning-a-view-versus-a-copy\n",
      "  # Remove the CWD from sys.path while we load stuff.\n",
      "/home/this/.local/lib/python3.7/site-packages/ipykernel_launcher.py:11: SettingWithCopyWarning: \n",
      "A value is trying to be set on a copy of a slice from a DataFrame.\n",
      "Try using .loc[row_indexer,col_indexer] = value instead\n",
      "\n",
      "See the caveats in the documentation: http://pandas.pydata.org/pandas-docs/stable/user_guide/indexing.html#returning-a-view-versus-a-copy\n",
      "  # This is added back by InteractiveShellApp.init_path()\n"
     ]
    }
   ],
   "source": [
    "# Berechnen, wie viel Prozent des regulären Halbtaxpreises (bzw. des am maximalen Preises) \n",
    "# das günstigste Ticket kostet. Achtung: Die verschiedenen Wege werden nicht berücksichtigt. \n",
    "# Ausschlaggebend ist lediglich, wie oft man umsteigen muss. \n",
    "df_temp_1 = pd.DataFrame()\n",
    "for s in df['strecke'].unique():\n",
    "    for u in df[df['strecke'] == s]['umsteigen'].unique():\n",
    "        df_temp = df[(df['strecke'] == s) & (df['umsteigen'] == u)]\n",
    "        normalpreis = df_temp['minimalpreis'].max()\n",
    "        df_temp['normalpreis'] = normalpreis\n",
    "        df_temp['preis_prozent'] = df_temp['minimalpreis'].apply(lambda x: round(100 * x / normalpreis, 1))\n",
    "        df_temp['sparticket'] = df_temp['preis_prozent'].apply(lambda x: True if x < 100 else False)\n",
    "        df_temp_1 = df_temp_1.append(df_temp)\n",
    "df = df_temp_1"
   ]
  },
  {
   "cell_type": "code",
   "execution_count": 24,
   "metadata": {},
   "outputs": [
    {
     "data": {
      "text/html": [
       "<div>\n",
       "<style scoped>\n",
       "    .dataframe tbody tr th:only-of-type {\n",
       "        vertical-align: middle;\n",
       "    }\n",
       "\n",
       "    .dataframe tbody tr th {\n",
       "        vertical-align: top;\n",
       "    }\n",
       "\n",
       "    .dataframe thead th {\n",
       "        text-align: right;\n",
       "    }\n",
       "</style>\n",
       "<table border=\"1\" class=\"dataframe\">\n",
       "  <thead>\n",
       "    <tr style=\"text-align: right;\">\n",
       "      <th></th>\n",
       "      <th>datetime</th>\n",
       "      <th>datum</th>\n",
       "      <th>start</th>\n",
       "      <th>ziel</th>\n",
       "      <th>zeit</th>\n",
       "      <th>abfahrt</th>\n",
       "      <th>ankunft</th>\n",
       "      <th>dauer</th>\n",
       "      <th>umsteigen</th>\n",
       "      <th>belegung_1</th>\n",
       "      <th>...</th>\n",
       "      <th>minimalpreis</th>\n",
       "      <th>login</th>\n",
       "      <th>file</th>\n",
       "      <th>im_voraus</th>\n",
       "      <th>im_voraus_kat</th>\n",
       "      <th>abfahrt_datetime</th>\n",
       "      <th>strecke</th>\n",
       "      <th>normalpreis</th>\n",
       "      <th>preis_prozent</th>\n",
       "      <th>sparticket</th>\n",
       "    </tr>\n",
       "  </thead>\n",
       "  <tbody>\n",
       "    <tr>\n",
       "      <td>1</td>\n",
       "      <td>2019-10-24 22:49:45</td>\n",
       "      <td>2019-10-25</td>\n",
       "      <td>Bern</td>\n",
       "      <td>Lugano, Vignola</td>\n",
       "      <td>16:00</td>\n",
       "      <td>16:02</td>\n",
       "      <td>19:43</td>\n",
       "      <td>3 h 41 min</td>\n",
       "      <td>3</td>\n",
       "      <td>1. Klasse, Sehr hohe Belegung erwartet</td>\n",
       "      <td>...</td>\n",
       "      <td>54.0</td>\n",
       "      <td>True</td>\n",
       "      <td>Bern -Zürich HB_2019-10-24 22:49:45.242979_25....</td>\n",
       "      <td>-1</td>\n",
       "      <td>-1</td>\n",
       "      <td>2019-10-25 16:02:00</td>\n",
       "      <td>Bern -- Lugano, Vignola</td>\n",
       "      <td>54.0</td>\n",
       "      <td>100.0</td>\n",
       "      <td>False</td>\n",
       "    </tr>\n",
       "    <tr>\n",
       "      <td>2</td>\n",
       "      <td>2019-10-24 22:49:45</td>\n",
       "      <td>2019-10-25</td>\n",
       "      <td>Bern</td>\n",
       "      <td>Lugano, Vignola</td>\n",
       "      <td>16:00</td>\n",
       "      <td>16:10</td>\n",
       "      <td>20:21</td>\n",
       "      <td>4 h 11 min</td>\n",
       "      <td>3</td>\n",
       "      <td>1. Klasse, Hohe Belegung erwartet</td>\n",
       "      <td>...</td>\n",
       "      <td>54.0</td>\n",
       "      <td>True</td>\n",
       "      <td>Bern -Zürich HB_2019-10-24 22:49:45.242979_25....</td>\n",
       "      <td>-1</td>\n",
       "      <td>-1</td>\n",
       "      <td>2019-10-25 16:10:00</td>\n",
       "      <td>Bern -- Lugano, Vignola</td>\n",
       "      <td>54.0</td>\n",
       "      <td>100.0</td>\n",
       "      <td>False</td>\n",
       "    </tr>\n",
       "    <tr>\n",
       "      <td>5</td>\n",
       "      <td>2019-10-24 22:49:45</td>\n",
       "      <td>2019-10-25</td>\n",
       "      <td>Bern</td>\n",
       "      <td>Lugano, Vignola</td>\n",
       "      <td>16:00</td>\n",
       "      <td>17:00</td>\n",
       "      <td>20:51</td>\n",
       "      <td>3 h 51 min</td>\n",
       "      <td>3</td>\n",
       "      <td>1. Klasse, Sehr hohe Belegung erwartet</td>\n",
       "      <td>...</td>\n",
       "      <td>48.0</td>\n",
       "      <td>True</td>\n",
       "      <td>Bern -Zürich HB_2019-10-24 22:49:45.242979_25....</td>\n",
       "      <td>-1</td>\n",
       "      <td>-1</td>\n",
       "      <td>2019-10-25 17:00:00</td>\n",
       "      <td>Bern -- Lugano, Vignola</td>\n",
       "      <td>54.0</td>\n",
       "      <td>88.9</td>\n",
       "      <td>True</td>\n",
       "    </tr>\n",
       "    <tr>\n",
       "      <td>8</td>\n",
       "      <td>2019-10-24 22:49:45</td>\n",
       "      <td>2019-10-25</td>\n",
       "      <td>Bern</td>\n",
       "      <td>Lugano, Vignola</td>\n",
       "      <td>16:00</td>\n",
       "      <td>18:02</td>\n",
       "      <td>21:51</td>\n",
       "      <td>3 h 49 min</td>\n",
       "      <td>3</td>\n",
       "      <td>1. Klasse, Hohe Belegung erwartet</td>\n",
       "      <td>...</td>\n",
       "      <td>54.0</td>\n",
       "      <td>True</td>\n",
       "      <td>Bern -Zürich HB_2019-10-24 22:49:45.242979_25....</td>\n",
       "      <td>-1</td>\n",
       "      <td>-1</td>\n",
       "      <td>2019-10-25 18:02:00</td>\n",
       "      <td>Bern -- Lugano, Vignola</td>\n",
       "      <td>54.0</td>\n",
       "      <td>100.0</td>\n",
       "      <td>False</td>\n",
       "    </tr>\n",
       "    <tr>\n",
       "      <td>11</td>\n",
       "      <td>2019-10-24 22:49:45</td>\n",
       "      <td>2019-10-25</td>\n",
       "      <td>Bern</td>\n",
       "      <td>Lugano, Vignola</td>\n",
       "      <td>16:00</td>\n",
       "      <td>19:00</td>\n",
       "      <td>22:51</td>\n",
       "      <td>3 h 51 min</td>\n",
       "      <td>3</td>\n",
       "      <td>1. Klasse, Tiefe bis mittlere Belegung erwartet</td>\n",
       "      <td>...</td>\n",
       "      <td>48.0</td>\n",
       "      <td>True</td>\n",
       "      <td>Bern -Zürich HB_2019-10-24 22:49:45.242979_25....</td>\n",
       "      <td>-1</td>\n",
       "      <td>-1</td>\n",
       "      <td>2019-10-25 19:00:00</td>\n",
       "      <td>Bern -- Lugano, Vignola</td>\n",
       "      <td>54.0</td>\n",
       "      <td>88.9</td>\n",
       "      <td>True</td>\n",
       "    </tr>\n",
       "  </tbody>\n",
       "</table>\n",
       "<p>5 rows × 22 columns</p>\n",
       "</div>"
      ],
      "text/plain": [
       "              datetime      datum start             ziel   zeit abfahrt  \\\n",
       "1  2019-10-24 22:49:45 2019-10-25  Bern  Lugano, Vignola  16:00   16:02   \n",
       "2  2019-10-24 22:49:45 2019-10-25  Bern  Lugano, Vignola  16:00   16:10   \n",
       "5  2019-10-24 22:49:45 2019-10-25  Bern  Lugano, Vignola  16:00   17:00   \n",
       "8  2019-10-24 22:49:45 2019-10-25  Bern  Lugano, Vignola  16:00   18:02   \n",
       "11 2019-10-24 22:49:45 2019-10-25  Bern  Lugano, Vignola  16:00   19:00   \n",
       "\n",
       "   ankunft       dauer  umsteigen  \\\n",
       "1    19:43  3 h 41 min          3   \n",
       "2    20:21  4 h 11 min          3   \n",
       "5    20:51  3 h 51 min          3   \n",
       "8    21:51  3 h 49 min          3   \n",
       "11   22:51  3 h 51 min          3   \n",
       "\n",
       "                                         belegung_1  ... minimalpreis login  \\\n",
       "1            1. Klasse, Sehr hohe Belegung erwartet  ...         54.0  True   \n",
       "2                 1. Klasse, Hohe Belegung erwartet  ...         54.0  True   \n",
       "5            1. Klasse, Sehr hohe Belegung erwartet  ...         48.0  True   \n",
       "8                 1. Klasse, Hohe Belegung erwartet  ...         54.0  True   \n",
       "11  1. Klasse, Tiefe bis mittlere Belegung erwartet  ...         48.0  True   \n",
       "\n",
       "                                                 file  im_voraus  \\\n",
       "1   Bern -Zürich HB_2019-10-24 22:49:45.242979_25....         -1   \n",
       "2   Bern -Zürich HB_2019-10-24 22:49:45.242979_25....         -1   \n",
       "5   Bern -Zürich HB_2019-10-24 22:49:45.242979_25....         -1   \n",
       "8   Bern -Zürich HB_2019-10-24 22:49:45.242979_25....         -1   \n",
       "11  Bern -Zürich HB_2019-10-24 22:49:45.242979_25....         -1   \n",
       "\n",
       "   im_voraus_kat    abfahrt_datetime                  strecke normalpreis  \\\n",
       "1             -1 2019-10-25 16:02:00  Bern -- Lugano, Vignola        54.0   \n",
       "2             -1 2019-10-25 16:10:00  Bern -- Lugano, Vignola        54.0   \n",
       "5             -1 2019-10-25 17:00:00  Bern -- Lugano, Vignola        54.0   \n",
       "8             -1 2019-10-25 18:02:00  Bern -- Lugano, Vignola        54.0   \n",
       "11            -1 2019-10-25 19:00:00  Bern -- Lugano, Vignola        54.0   \n",
       "\n",
       "   preis_prozent  sparticket  \n",
       "1          100.0       False  \n",
       "2          100.0       False  \n",
       "5           88.9        True  \n",
       "8          100.0       False  \n",
       "11          88.9        True  \n",
       "\n",
       "[5 rows x 22 columns]"
      ]
     },
     "execution_count": 24,
     "metadata": {},
     "output_type": "execute_result"
    }
   ],
   "source": [
    "df.head()"
   ]
  },
  {
   "cell_type": "code",
   "execution_count": null,
   "metadata": {},
   "outputs": [],
   "source": [
    "# Berechnen der Distanzen.\n",
    "import osmnx as ox\n",
    "import networkx as nx\n",
    "\n",
    "# Herunterladen der Zugsstrecken der Schweiz. Achtung: Das nimmt sehr viel Zeit in Anspruch.\n",
    "G = ox.graph_from_place('Switzerland', network_type='none',  infrastructure='way[\"railway\"]', simplify=True)"
   ]
  },
  {
   "cell_type": "code",
   "execution_count": null,
   "metadata": {},
   "outputs": [],
   "source": [
    "strecken = [['Bern', 'Zürich HB'], ['Basel SBB', 'Zürich HB'], ['Basel SBB', 'Bern'], ['Genève', 'Zürich HB'], ['Genève', 'Bern'], \n",
    "            ['Biel/Bienne', 'Bern'], ['Thun', 'Bern'], ['Domodossola', 'Bern'], \n",
    "            ['Winterthur', 'Zürich HB'], ['Chur', 'Zürich HB'], ['Bern', 'Biel/Bienne']]\n",
    "\n",
    "bh_latlon = {'Zürich HB': [47.37811, 8.53926], 'Bern': [46.94917, 7.43931], 'Genève': [46.21020, 6.14261], 'Basel SBB': [47.5526,7.5943], \n",
    "             'Winterthur': [47.50039, 8.72360], 'Thun': [46.75473, 7.62965], 'Biel/Bienne': [47.13296, 7.24322], \n",
    "             'Chur': [46.85379, 9.52937], 'Lugano': [46.00512, 8.94703], 'Domodossola': [46.11541, 8.29664]}\n",
    "\n",
    "df_bahnhof = pd.DataFrame.from_dict(bh_latlon, orient='index')\n",
    "df_bahnhof.columns = ['lat', 'lon']\n",
    "\n",
    "# Berechnen der nächsten Nodes auf dem Streckenplan. \n",
    "for i, r in df_bahnhof.iterrows():\n",
    "    df_bahnhof.at[i, 'node'] = ox.get_nearest_node(G, [r['lat'], r['lon']])\n",
    "    \n",
    "# Berechnen der Distanz. \n",
    "distanz_dict = dict()\n",
    "\n",
    "for s in strecken:\n",
    "    n1 = df_bahnhof.loc[s[0]]['node']\n",
    "    n2 = df_bahnhof.loc[s[1]]['node']\n",
    "    \n",
    "    print(s)\n",
    "    route = nx.shortest_path(G, n1, n2, weight='length')\n",
    "    fig, ax = ox.plot_graph_route(G, route, fig_height=8, fig_width=8, \n",
    "                        show=True, close=False, \n",
    "                        edge_color='grey',\n",
    "                        orig_dest_node_color='green',\n",
    "                        route_color='green')\n",
    "    length = nx.shortest_path_length(G, n1, n2, weight='length')\n",
    "    print(length / 1000)\n",
    "    print()\n",
    "    distanz_dict[' -- '.join(s)] = round(length / 1000, 3)"
   ]
  },
  {
   "cell_type": "code",
   "execution_count": null,
   "metadata": {},
   "outputs": [],
   "source": [
    "# Zusammenführen der beiden Dataframes. \n",
    "df_distanzen = pd.DataFrame.from_dict(distanz_dict, orient='index')#df_distanzen = df_distanzen.reset_index()\n",
    "df_distanzen = df_distanzen.reset_index()\n",
    "df_distanzen['index'] = df_distanzen['index'].str.replace('bern', 'Bern')\n",
    "df_distanzen['index'] = df_distanzen['index'].str.replace('bern', 'Bern')\n",
    "df_distanzen['index'] = df_distanzen['index'].str.replace('zürich', 'Zürich HB')\n",
    "df_distanzen['index'] = df_distanzen['index'].str.replace('basel', 'Basel SBB')\n",
    "df_distanzen['index'] = df_distanzen['index'].str.replace('genève', 'Genève')\n",
    "df_distanzen['index'] = df_distanzen['index'].str.replace('basel', 'Basel SBB')\n",
    "\n",
    "df_distanzen.columns = ['strecke', 'kilometer']\n",
    "\n",
    "# Abspeichern der generierten Daten. \n",
    "df_distanzen.to_csv('daten/distanzen.csv')"
   ]
  },
  {
   "cell_type": "code",
   "execution_count": null,
   "metadata": {},
   "outputs": [],
   "source": [
    "# Neu laden der Distanzangaben.\n",
    "df_distanzen = pd.read_csv('daten/distanzen.csv', index_col='Unnamed: 0')"
   ]
  },
  {
   "cell_type": "code",
   "execution_count": null,
   "metadata": {},
   "outputs": [],
   "source": [
    "# Zusammenführen der beiden Datensätze. \n",
    "df = pd.merge(df, df_distanzen, left_on='strecke', right_on='strecke', how='left')\n",
    "\n",
    "# Berechnen des Preises pro Kilometer. \n",
    "df['kilometerpreis'] = df['minimalpreis'] / df['kilometer'] * 100"
   ]
  },
  {
   "cell_type": "code",
   "execution_count": null,
   "metadata": {},
   "outputs": [],
   "source": [
    "# Duplikate werden entfernt. \n",
    "df = df.drop_duplicates(subset=['datetime', 'datum', 'start', 'ziel', 'zeit', 'abfahrt', 'ankunft', 'dauer', 'umsteigen'])"
   ]
  },
  {
   "cell_type": "code",
   "execution_count": null,
   "metadata": {},
   "outputs": [],
   "source": [
    "# Zwischenspeichern der Daten. \n",
    "df.to_csv('daten/sparbillette.csv')"
   ]
  },
  {
   "cell_type": "markdown",
   "metadata": {},
   "source": [
    "### Plausibilitätschecks"
   ]
  },
  {
   "cell_type": "code",
   "execution_count": null,
   "metadata": {},
   "outputs": [],
   "source": [
    "# Wie viele Einträge sind vorhanden? \n",
    "len(df)"
   ]
  },
  {
   "cell_type": "code",
   "execution_count": null,
   "metadata": {},
   "outputs": [],
   "source": [
    "# Wann wurde zum ersten Mal gescrapt?\n",
    "df['datetime'].min()"
   ]
  },
  {
   "cell_type": "code",
   "execution_count": null,
   "metadata": {},
   "outputs": [],
   "source": [
    "# Wann wurde zum letzten Mal gescrapt?\n",
    "df['datetime'].max()"
   ]
  },
  {
   "cell_type": "code",
   "execution_count": null,
   "metadata": {},
   "outputs": [],
   "source": [
    "# Welches ist der erste erfasste Fahrtag?\n",
    "df['datum'].min()"
   ]
  },
  {
   "cell_type": "code",
   "execution_count": null,
   "metadata": {},
   "outputs": [],
   "source": [
    "# Welches ist der letzte erfasste Fahrtag?\n",
    "df['datum'].max()"
   ]
  },
  {
   "cell_type": "code",
   "execution_count": null,
   "metadata": {},
   "outputs": [],
   "source": [
    "# Welche Strecken wurden wie oft ausgelesen? \n",
    "df['strecke'].value_counts()"
   ]
  },
  {
   "cell_type": "code",
   "execution_count": null,
   "metadata": {},
   "outputs": [],
   "source": [
    "# Welche Start-Adressen sind verzeichnet? \n",
    "df['start'].unique().tolist()"
   ]
  },
  {
   "cell_type": "code",
   "execution_count": null,
   "metadata": {},
   "outputs": [],
   "source": [
    "# Welche Ziel-Adressen sind verzeichnet?\n",
    "df['ziel'].unique().tolist()"
   ]
  },
  {
   "cell_type": "code",
   "execution_count": null,
   "metadata": {},
   "outputs": [],
   "source": []
  }
 ],
 "metadata": {
  "kernelspec": {
   "display_name": "Python 3",
   "language": "python",
   "name": "python3"
  },
  "language_info": {
   "codemirror_mode": {
    "name": "ipython",
    "version": 3
   },
   "file_extension": ".py",
   "mimetype": "text/x-python",
   "name": "python",
   "nbconvert_exporter": "python",
   "pygments_lexer": "ipython3",
   "version": "3.7.5"
  },
  "varInspector": {
   "cols": {
    "lenName": 16,
    "lenType": 16,
    "lenVar": 40
   },
   "kernels_config": {
    "python": {
     "delete_cmd_postfix": "",
     "delete_cmd_prefix": "del ",
     "library": "var_list.py",
     "varRefreshCmd": "print(var_dic_list())"
    },
    "r": {
     "delete_cmd_postfix": ") ",
     "delete_cmd_prefix": "rm(",
     "library": "var_list.r",
     "varRefreshCmd": "cat(var_dic_list()) "
    }
   },
   "types_to_exclude": [
    "module",
    "function",
    "builtin_function_or_method",
    "instance",
    "_Feature"
   ],
   "window_display": false
  }
 },
 "nbformat": 4,
 "nbformat_minor": 2
}
